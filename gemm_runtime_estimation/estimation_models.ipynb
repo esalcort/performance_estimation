{
 "cells": [
  {
   "cell_type": "code",
   "execution_count": 1,
   "metadata": {},
   "outputs": [],
   "source": [
    "import pandas as pd\n",
    "import matplotlib.pyplot as plt\n",
    "from sklearn.linear_model import LinearRegression\n",
    "from sklearn.neural_network import MLPRegressor\n",
    "from sklearn.model_selection import train_test_split, GridSearchCV\n",
    "\n",
    "def plot_data(df):\n",
    "    table = df.groupby(['M', 'N', 'K'])['time'].mean().unstack()\n",
    "    for m in table.index.get_level_values(0).unique():\n",
    "        table.loc[m].plot(figsize=(12,3), grid=True,marker='*')\n",
    "        plt.title('m='+str(m))\n",
    "        plt.ylabel('time')\n",
    "        plt.show()"
   ]
  },
  {
   "cell_type": "markdown",
   "metadata": {},
   "source": [
    "# Get Data"
   ]
  },
  {
   "cell_type": "code",
   "execution_count": 2,
   "metadata": {},
   "outputs": [],
   "source": [
    "# ------------------------------  Add code here ------------------------------#\n",
    "# The code below reads a sample file. Replace sample.csv with gemm_extimes.csv\n",
    "# to access your collected data set.\n",
    "# --------------------------------------------------------------------------- #\n",
    "df = pd.read_csv('sample.csv')"
   ]
  },
  {
   "cell_type": "markdown",
   "metadata": {},
   "source": [
    "# Visualize Data"
   ]
  },
  {
   "cell_type": "code",
   "execution_count": 3,
   "metadata": {},
   "outputs": [
    {
     "data": {
      "image/png": "[encoded data removed]",
      "text/plain": [
       "<Figure size 864x216 with 1 Axes>"
      ]
     },
     "metadata": {
      "needs_background": "light"
     },
     "output_type": "display_data"
    },
    {
     "data": {
      "image/png": "[encoded data removed]",
      "text/plain": [
       "<Figure size 864x216 with 1 Axes>"
      ]
     },
     "metadata": {
      "needs_background": "light"
     },
     "output_type": "display_data"
    }
   ],
   "source": [
    "# --------------------------------------------------------------------------- #\n",
    "# We have provided the plot_data method as an example of how you can visualize\n",
    "# your data. Feel free to use any other visualization tool that helps\n",
    "# you find the relationship between inputs and outputs.\n",
    "# --------------------------------------------------------------------------- #\n",
    "plot_data(df)\n",
    "\n",
    "# -------------------- (optional) Add code here ------------------------------#\n",
    "# Add your code for other ways to visualize data:\n"
   ]
  },
  {
   "cell_type": "markdown",
   "metadata": {},
   "source": [
    "# Create Data Set"
   ]
  },
  {
   "cell_type": "code",
   "execution_count": 4,
   "metadata": {},
   "outputs": [],
   "source": [
    "# --------------------------------------------------------------------------- #\n",
    "# We will use the 'time' column for our target variable y and the 'M', 'N',\n",
    "# and 'K' columns for inputs. \n",
    "# --------------------------------------------------------------------------- #\n",
    "raw_X, raw_y = df.drop('time', axis=1), df[['time']]"
   ]
  },
  {
   "cell_type": "markdown",
   "metadata": {},
   "source": [
    "# Data Preprocessing"
   ]
  },
  {
   "cell_type": "code",
   "execution_count": 5,
   "metadata": {},
   "outputs": [],
   "source": [
    "# --------------------------------------------------------------------------- #\n",
    "# Feature engineering is typically an important step in ML to improve model\n",
    "# accuracy. This inlcudes adding or removing inputs, as well as manipulating\n",
    "# the input and/or output space. Examples of manipulation methods include\n",
    "# scaling and feature transformation (polynimial, RBF, logarithmic, etc.).\n",
    "# Can you think of any new or transformed inputs to help the ML models?\n",
    "# --------------------------------------------------------------------------- #\n",
    "\n",
    "# -------------------- (optional) Add code here ------------------------------#\n",
    "# Replace the lines below to transform raw_X and/or raw_y into your (X, y)\n",
    "# data set\n",
    "X = raw_X\n",
    "y = raw_y"
   ]
  },
  {
   "cell_type": "markdown",
   "metadata": {},
   "source": [
    "# Train/test Split"
   ]
  },
  {
   "cell_type": "code",
   "execution_count": 6,
   "metadata": {},
   "outputs": [],
   "source": [
    "# --------------------------------------------------------------------------- #\n",
    "# We will use 30% of the data set to evaluate our models. Do not modify this\n",
    "# block\n",
    "# --------------------------------------------------------------------------- #\n",
    "X_train, X_test, y_train, y_test = train_test_split(X, y, test_size=0.3, random_state=42)"
   ]
  },
  {
   "cell_type": "markdown",
   "metadata": {},
   "source": [
    "# Linear Regression"
   ]
  },
  {
   "cell_type": "code",
   "execution_count": 7,
   "metadata": {},
   "outputs": [
    {
     "name": "stdout",
     "output_type": "stream",
     "text": [
      "-41.94469907724691\n"
     ]
    }
   ],
   "source": [
    "# --------------------------------------------------------------------------- #\n",
    "# Our first model is a linear regressor, documented at\n",
    "#   https://scikit-learn.org/stable/modules/generated/sklearn.linear_model.LinearRegression.html\n",
    "# --------------------------------------------------------------------------- #\n",
    "lr = LinearRegression()\n",
    "lr.fit(X_train, y_train)\n",
    "print(lr.score(X_test, y_test))"
   ]
  },
  {
   "cell_type": "markdown",
   "metadata": {},
   "source": [
    "# MLP"
   ]
  },
  {
   "cell_type": "code",
   "execution_count": 8,
   "metadata": {},
   "outputs": [
    {
     "name": "stdout",
     "output_type": "stream",
     "text": [
      "Best hyperparameters: {'hidden_layer_sizes': (100, 100, 100, 50)}\n",
      "Best model test set score: -1798.257139893719\n"
     ]
    },
    {
     "data": {
      "text/html": [
       "<div>\n",
       "<style scoped>\n",
       "    .dataframe tbody tr th:only-of-type {\n",
       "        vertical-align: middle;\n",
       "    }\n",
       "\n",
       "    .dataframe tbody tr th {\n",
       "        vertical-align: top;\n",
       "    }\n",
       "\n",
       "    .dataframe thead th {\n",
       "        text-align: right;\n",
       "    }\n",
       "</style>\n",
       "<table border=\"1\" class=\"dataframe\">\n",
       "  <thead>\n",
       "    <tr style=\"text-align: right;\">\n",
       "      <th></th>\n",
       "      <th>mean_fit_time</th>\n",
       "      <th>std_fit_time</th>\n",
       "      <th>mean_score_time</th>\n",
       "      <th>std_score_time</th>\n",
       "      <th>param_hidden_layer_sizes</th>\n",
       "      <th>params</th>\n",
       "      <th>split0_test_score</th>\n",
       "      <th>split1_test_score</th>\n",
       "      <th>split2_test_score</th>\n",
       "      <th>split3_test_score</th>\n",
       "      <th>split4_test_score</th>\n",
       "      <th>mean_test_score</th>\n",
       "      <th>std_test_score</th>\n",
       "      <th>rank_test_score</th>\n",
       "    </tr>\n",
       "  </thead>\n",
       "  <tbody>\n",
       "    <tr>\n",
       "      <th>0</th>\n",
       "      <td>0.020729</td>\n",
       "      <td>0.001325</td>\n",
       "      <td>0.002015</td>\n",
       "      <td>0.000244</td>\n",
       "      <td>(100, 100, 50, 50)</td>\n",
       "      <td>{'hidden_layer_sizes': (100, 100, 50, 50)}</td>\n",
       "      <td>-291.930995</td>\n",
       "      <td>-34.105099</td>\n",
       "      <td>-1187.932056</td>\n",
       "      <td>-8.654836</td>\n",
       "      <td>-1.904258e+07</td>\n",
       "      <td>-3.808820e+06</td>\n",
       "      <td>7.616879e+06</td>\n",
       "      <td>2</td>\n",
       "    </tr>\n",
       "    <tr>\n",
       "      <th>1</th>\n",
       "      <td>0.036618</td>\n",
       "      <td>0.014716</td>\n",
       "      <td>0.002301</td>\n",
       "      <td>0.000300</td>\n",
       "      <td>(100, 100, 100, 50)</td>\n",
       "      <td>{'hidden_layer_sizes': (100, 100, 100, 50)}</td>\n",
       "      <td>-1684.845350</td>\n",
       "      <td>-101.066487</td>\n",
       "      <td>-4064.211207</td>\n",
       "      <td>-39.773030</td>\n",
       "      <td>-2.322524e+06</td>\n",
       "      <td>-4.656828e+05</td>\n",
       "      <td>9.284218e+05</td>\n",
       "      <td>1</td>\n",
       "    </tr>\n",
       "  </tbody>\n",
       "</table>\n",
       "</div>"
      ],
      "text/plain": [
       "   mean_fit_time  std_fit_time  mean_score_time  std_score_time  \\\n",
       "0       0.020729      0.001325         0.002015        0.000244   \n",
       "1       0.036618      0.014716         0.002301        0.000300   \n",
       "\n",
       "  param_hidden_layer_sizes                                       params  \\\n",
       "0       (100, 100, 50, 50)   {'hidden_layer_sizes': (100, 100, 50, 50)}   \n",
       "1      (100, 100, 100, 50)  {'hidden_layer_sizes': (100, 100, 100, 50)}   \n",
       "\n",
       "   split0_test_score  split1_test_score  split2_test_score  split3_test_score  \\\n",
       "0        -291.930995         -34.105099       -1187.932056          -8.654836   \n",
       "1       -1684.845350        -101.066487       -4064.211207         -39.773030   \n",
       "\n",
       "   split4_test_score  mean_test_score  std_test_score  rank_test_score  \n",
       "0      -1.904258e+07    -3.808820e+06    7.616879e+06                2  \n",
       "1      -2.322524e+06    -4.656828e+05    9.284218e+05                1  "
      ]
     },
     "execution_count": 8,
     "metadata": {},
     "output_type": "execute_result"
    }
   ],
   "source": [
    "# --------------------------------------------------------------------------- #\n",
    "# The second model is multi-layer perceptron, documented at\n",
    "#   https://scikit-learn.org/stable/modules/generated/sklearn.neural_network.MLPRegressor.html\n",
    "# As opposed to simple linear regression, this model has multiple hyperparameters\n",
    "# that can be tuned to improve accuracy. You can control the number of hidden\n",
    "# layers and the size of each layer. Note that for hyperparameter tuning we\n",
    "# are performing cross-validation.\n",
    "# --------------------------------------------------------------------------- #\n",
    "parameters = {\n",
    "    'hidden_layer_sizes' : [\n",
    "# ------------------------------  Add code here ------------------------------#\n",
    "# Modify and extend the list below to find an MLP regressor that is most\n",
    "# accurate for your data. \n",
    "        (100, 100, 50, 50),\n",
    "        (100, 100, 100, 50),\n",
    "# --------------------------------------------------------------------------- #\n",
    "    ]\n",
    "}\n",
    "mlp = MLPRegressor(random_state=42)\n",
    "clf = GridSearchCV(mlp, parameters)\n",
    "clf.fit(X_train, y_train.iloc[:,0])\n",
    "print('Best hyperparameters:', clf.best_params_)\n",
    "print('Best model test set score:', clf.score(X_test, y_test))\n",
    "pd.DataFrame(clf.cv_results_)\n"
   ]
  },
  {
   "cell_type": "markdown",
   "metadata": {},
   "source": [
    "# Other regression models"
   ]
  },
  {
   "cell_type": "code",
   "execution_count": 9,
   "metadata": {},
   "outputs": [],
   "source": [
    "# ------------------------------  Add code here ------------------------------#\n",
    "# Choose another regression model from the scikit-learn supervised learning\n",
    "# library (e.g., SVR, DecissionTreeRegressor):\n",
    "#   https://scikit-learn.org/stable/supervised_learning.html\n",
    "# Write your own code to tune hyperparameters if necessary and evaluate the\n",
    "# accuracy with the test set (X_test, y_test)\n"
   ]
  }
 ],
 "metadata": {
  "kernelspec": {
   "display_name": "Python 3.6.9 ('cpuml')",
   "language": "python",
   "name": "python3"
  },
  "language_info": {
   "codemirror_mode": {
    "name": "ipython",
    "version": 3
   },
   "file_extension": ".py",
   "mimetype": "text/x-python",
   "name": "python",
   "nbconvert_exporter": "python",
   "pygments_lexer": "ipython3",
   "version": "3.6.9"
  },
  "orig_nbformat": 4,
  "vscode": {
   "interpreter": {
    "hash": "cefbd3acf5cb7369213cffa59e74629844c019d78b23f9f7d4f7602ce85377d8"
   }
  }
 },
 "nbformat": 4,
 "nbformat_minor": 2
}
